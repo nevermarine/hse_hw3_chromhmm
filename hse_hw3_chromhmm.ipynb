{
  "nbformat": 4,
  "nbformat_minor": 0,
  "metadata": {
    "colab": {
      "provenance": []
    },
    "kernelspec": {
      "name": "python3",
      "display_name": "Python 3"
    },
    "language_info": {
      "name": "python"
    }
  },
  "cells": [
    {
      "cell_type": "markdown",
      "source": [
        "# Устанавливаем java и ChromHmm"
      ],
      "metadata": {
        "id": "JQ8rQwdGkd6l"
      }
    },
    {
      "cell_type": "code",
      "execution_count": null,
      "metadata": {
        "id": "W3Hr4Kntjm7P"
      },
      "outputs": [],
      "source": [
        "!curl -O https://raw.githubusercontent.com/deepjavalibrary/d2l-java/master/tools/fix-colab-gpu.sh && bash fix-colab-gpu.sh"
      ]
    },
    {
      "cell_type": "code",
      "source": [
        "!curl -O https://raw.githubusercontent.com/deepjavalibrary/d2l-java/master/tools/colab_build.sh && bash colab_build.sh"
      ],
      "metadata": {
        "id": "AloGt3fvkmvZ",
        "colab": {
          "base_uri": "https://localhost:8080/"
        },
        "outputId": "f7de719a-cf0e-4401-d65c-e5fb283babcb"
      },
      "execution_count": null,
      "outputs": [
        {
          "output_type": "stream",
          "name": "stdout",
          "text": [
            "  % Total    % Received % Xferd  Average Speed   Time    Time     Time  Current\n",
            "                                 Dload  Upload   Total   Spent    Left  Speed\n",
            "\r  0     0    0     0    0     0      0      0 --:--:-- --:--:-- --:--:--     0\r100   520  100   520    0     0   3333      0 --:--:-- --:--:-- --:--:--  3333\r100   520  100   520    0     0   3333      0 --:--:-- --:--:-- --:--:--  3312\n",
            "Update environment...\n",
            "Install Java...\n",
            "Install Jupyter java kernel...\n"
          ]
        }
      ]
    },
    {
      "cell_type": "code",
      "source": [
        "!java --list-modules | grep \"jdk.jshell\""
      ],
      "metadata": {
        "id": "bG8ACgeukmsr",
        "colab": {
          "base_uri": "https://localhost:8080/"
        },
        "outputId": "aab778dc-2de7-4255-d1a2-0964478c70ff"
      },
      "execution_count": null,
      "outputs": [
        {
          "output_type": "stream",
          "name": "stdout",
          "text": [
            "jdk.jshell@11.0.18\n"
          ]
        }
      ]
    },
    {
      "cell_type": "code",
      "source": [
        "! wget http://compbio.mit.edu/ChromHMM/ChromHMM.zip"
      ],
      "metadata": {
        "id": "xhYXfZ6fkmqH"
      },
      "execution_count": null,
      "outputs": []
    },
    {
      "cell_type": "code",
      "source": [
        "!unzip /content/ChromHMM.zip"
      ],
      "metadata": {
        "id": "sV24H33wkmlM",
        "colab": {
          "base_uri": "https://localhost:8080/"
        },
        "outputId": "df7f4424-fff2-438f-a7ba-f55b89436892"
      },
      "execution_count": null,
      "outputs": [
        {
          "output_type": "stream",
          "name": "stdout",
          "text": [
            "Archive:  /content/ChromHMM.zip\n",
            "   creating: ChromHMM/ANCHORFILES/\n",
            "   creating: ChromHMM/ANCHORFILES/ce10/\n",
            "  inflating: ChromHMM/ANCHORFILES/ce10/RefSeqTES.ce10.txt.gz  \n",
            "  inflating: ChromHMM/ANCHORFILES/ce10/RefSeqTSS.ce10.txt.gz  \n",
            "   creating: ChromHMM/ANCHORFILES/ce11/\n",
            "  inflating: ChromHMM/ANCHORFILES/ce11/RefSeqTES.ce11.txt.gz  \n",
            "  inflating: ChromHMM/ANCHORFILES/ce11/RefSeqTSS.ce11.txt.gz  \n",
            "   creating: ChromHMM/ANCHORFILES/ce6/\n",
            "  inflating: ChromHMM/ANCHORFILES/ce6/RefSeqTES.ce6.txt.gz  \n",
            "  inflating: ChromHMM/ANCHORFILES/ce6/RefSeqTSS.ce6.txt.gz  \n",
            "   creating: ChromHMM/ANCHORFILES/danRer10/\n",
            "  inflating: ChromHMM/ANCHORFILES/danRer10/RefSeqTES.danRer10.txt.gz  \n",
            "  inflating: ChromHMM/ANCHORFILES/danRer10/RefSeqTSS.danRer10.txt.gz  \n",
            "   creating: ChromHMM/ANCHORFILES/danRer11/\n",
            "  inflating: ChromHMM/ANCHORFILES/danRer11/RefSeqTES.danRer11.txt.gz  \n",
            "  inflating: ChromHMM/ANCHORFILES/danRer11/RefSeqTSS.danRer11.txt.gz  \n",
            "   creating: ChromHMM/ANCHORFILES/danRer7/\n",
            "  inflating: ChromHMM/ANCHORFILES/danRer7/RefSeqTES.danRer7.txt.gz  \n",
            "  inflating: ChromHMM/ANCHORFILES/danRer7/RefSeqTSS.danRer7.txt.gz  \n",
            "   creating: ChromHMM/ANCHORFILES/dm3/\n",
            "  inflating: ChromHMM/ANCHORFILES/dm3/RefSeqTES.dm3.txt.gz  \n",
            "  inflating: ChromHMM/ANCHORFILES/dm3/RefSeqTSS.dm3.txt.gz  \n",
            "   creating: ChromHMM/ANCHORFILES/dm6/\n",
            "  inflating: ChromHMM/ANCHORFILES/dm6/RefSeqTES.dm6.txt.gz  \n",
            "  inflating: ChromHMM/ANCHORFILES/dm6/RefSeqTSS.dm6.txt.gz  \n",
            "   creating: ChromHMM/ANCHORFILES/hg18/\n",
            "  inflating: ChromHMM/ANCHORFILES/hg18/RefSeqTES.hg18.txt.gz  \n",
            "  inflating: ChromHMM/ANCHORFILES/hg18/RefSeqTSS.hg18.txt.gz  \n",
            "   creating: ChromHMM/ANCHORFILES/hg19/\n",
            "  inflating: ChromHMM/ANCHORFILES/hg19/RefSeqTES.hg19.txt.gz  \n",
            "  inflating: ChromHMM/ANCHORFILES/hg19/RefSeqTSS.hg19.txt.gz  \n",
            "   creating: ChromHMM/ANCHORFILES/hg38/\n",
            "  inflating: ChromHMM/ANCHORFILES/hg38/RefSeqTES.hg38.txt.gz  \n",
            "  inflating: ChromHMM/ANCHORFILES/hg38/RefSeqTSS.hg38.txt.gz  \n",
            "   creating: ChromHMM/ANCHORFILES/hs1/\n",
            "  inflating: ChromHMM/ANCHORFILES/hs1/RefSeqTES.hs1.txt.gz  \n",
            "  inflating: ChromHMM/ANCHORFILES/hs1/RefSeqTSS.hs1.txt.gz  \n",
            "   creating: ChromHMM/ANCHORFILES/mm10/\n",
            "  inflating: ChromHMM/ANCHORFILES/mm10/RefSeqTES.mm10.txt.gz  \n",
            "  inflating: ChromHMM/ANCHORFILES/mm10/RefSeqTSS.mm10.txt.gz  \n",
            "   creating: ChromHMM/ANCHORFILES/mm39/\n",
            "  inflating: ChromHMM/ANCHORFILES/mm39/RefSeqTES.mm39.txt.gz  \n",
            "  inflating: ChromHMM/ANCHORFILES/mm39/RefSeqTSS.mm39.txt.gz  \n",
            "   creating: ChromHMM/ANCHORFILES/mm9/\n",
            "  inflating: ChromHMM/ANCHORFILES/mm9/RefSeqTES.mm9.txt.gz  \n",
            "  inflating: ChromHMM/ANCHORFILES/mm9/RefSeqTSS.mm9.txt.gz  \n",
            "   creating: ChromHMM/ANCHORFILES/rn5/\n",
            "  inflating: ChromHMM/ANCHORFILES/rn5/RefSeqTES.rn5.txt.gz  \n",
            "  inflating: ChromHMM/ANCHORFILES/rn5/RefSeqTSS.rn5.txt.gz  \n",
            "   creating: ChromHMM/ANCHORFILES/rn6/\n",
            "  inflating: ChromHMM/ANCHORFILES/rn6/RefSeqTES.rn6.txt.gz  \n",
            "  inflating: ChromHMM/ANCHORFILES/rn6/RefSeqTSS.rn6.txt.gz  \n",
            "  inflating: ChromHMM/ChromHMM.jar   \n",
            "  inflating: ChromHMM/ChromHMM_manual.pdf  \n",
            "   creating: ChromHMM/CHROMSIZES/\n",
            "  inflating: ChromHMM/CHROMSIZES/ce10.txt  \n",
            "  inflating: ChromHMM/CHROMSIZES/ce11.txt  \n",
            "  inflating: ChromHMM/CHROMSIZES/ce6.txt  \n",
            "  inflating: ChromHMM/CHROMSIZES/danRer10.txt  \n",
            "  inflating: ChromHMM/CHROMSIZES/danRer11.txt  \n",
            "  inflating: ChromHMM/CHROMSIZES/danRer7.txt  \n",
            "  inflating: ChromHMM/CHROMSIZES/dm3.txt  \n",
            "  inflating: ChromHMM/CHROMSIZES/dm6.txt  \n",
            "  inflating: ChromHMM/CHROMSIZES/hg18.txt  \n",
            "  inflating: ChromHMM/CHROMSIZES/hg19.txt  \n",
            "  inflating: ChromHMM/CHROMSIZES/hg38.txt  \n",
            "  inflating: ChromHMM/CHROMSIZES/hs1.txt  \n",
            "  inflating: ChromHMM/CHROMSIZES/mm10.txt  \n",
            "  inflating: ChromHMM/CHROMSIZES/mm39.txt  \n",
            "  inflating: ChromHMM/CHROMSIZES/mm9.txt  \n",
            "  inflating: ChromHMM/CHROMSIZES/rn5.txt  \n",
            "  inflating: ChromHMM/CHROMSIZES/rn6.txt  \n",
            "   creating: ChromHMM/COORDS/\n",
            "   creating: ChromHMM/COORDS/ce10/\n",
            "  inflating: ChromHMM/COORDS/ce10/RefSeqExon.ce10.bed.gz  \n",
            "  inflating: ChromHMM/COORDS/ce10/RefSeqGene.ce10.bed.gz  \n",
            "  inflating: ChromHMM/COORDS/ce10/RefSeqTES.ce10.bed.gz  \n",
            "  inflating: ChromHMM/COORDS/ce10/RefSeqTSS.ce10.bed.gz  \n",
            "  inflating: ChromHMM/COORDS/ce10/RefSeqTSS2kb.ce10.bed.gz  \n",
            "   creating: ChromHMM/COORDS/ce11/\n",
            "  inflating: ChromHMM/COORDS/ce11/RefSeqExon.ce11.bed.gz  \n",
            "  inflating: ChromHMM/COORDS/ce11/RefSeqGene.ce11.bed.gz  \n",
            "  inflating: ChromHMM/COORDS/ce11/RefSeqTES.ce11.bed.gz  \n",
            "  inflating: ChromHMM/COORDS/ce11/RefSeqTSS.ce11.bed.gz  \n",
            "  inflating: ChromHMM/COORDS/ce11/RefSeqTSS2kb.ce11.bed.gz  \n",
            "   creating: ChromHMM/COORDS/ce6/\n",
            "  inflating: ChromHMM/COORDS/ce6/RefSeqExon.ce6.bed.gz  \n",
            "  inflating: ChromHMM/COORDS/ce6/RefSeqGene.ce6.bed.gz  \n",
            "  inflating: ChromHMM/COORDS/ce6/RefSeqTES.ce6.bed.gz  \n",
            "  inflating: ChromHMM/COORDS/ce6/RefSeqTSS.ce6.bed.gz  \n",
            "  inflating: ChromHMM/COORDS/ce6/RefSeqTSS2kb.ce6.bed.gz  \n",
            "   creating: ChromHMM/COORDS/danRer10/\n",
            "  inflating: ChromHMM/COORDS/danRer10/RefSeqExon.danRer10.bed.gz  \n",
            "  inflating: ChromHMM/COORDS/danRer10/RefSeqGene.danRer10.bed.gz  \n",
            "  inflating: ChromHMM/COORDS/danRer10/RefSeqTES.danRer10.bed.gz  \n",
            "  inflating: ChromHMM/COORDS/danRer10/RefSeqTSS.danRer10.bed.gz  \n",
            "  inflating: ChromHMM/COORDS/danRer10/RefSeqTSS2kb.danRer10.bed.gz  \n",
            "   creating: ChromHMM/COORDS/danRer11/\n",
            "  inflating: ChromHMM/COORDS/danRer11/RefSeqExon.danRer11.bed.gz  \n",
            "  inflating: ChromHMM/COORDS/danRer11/RefSeqGene.danRer11.bed.gz  \n",
            "  inflating: ChromHMM/COORDS/danRer11/RefSeqTES.danRer11.bed.gz  \n",
            "  inflating: ChromHMM/COORDS/danRer11/RefSeqTSS.danRer11.bed.gz  \n",
            "  inflating: ChromHMM/COORDS/danRer11/RefSeqTSS2kb.danRer11.bed.gz  \n",
            "   creating: ChromHMM/COORDS/danRer7/\n",
            "  inflating: ChromHMM/COORDS/danRer7/RefSeqExon.danRer7.bed.gz  \n",
            "  inflating: ChromHMM/COORDS/danRer7/RefSeqGene.danRer7.bed.gz  \n",
            "  inflating: ChromHMM/COORDS/danRer7/RefSeqTES.danRer7.bed.gz  \n",
            "  inflating: ChromHMM/COORDS/danRer7/RefSeqTSS.danRer7.bed.gz  \n",
            "  inflating: ChromHMM/COORDS/danRer7/RefSeqTSS2kb.danRer7.bed.gz  \n",
            "   creating: ChromHMM/COORDS/dm3/\n",
            "  inflating: ChromHMM/COORDS/dm3/RefSeqExon.dm3.bed.gz  \n",
            "  inflating: ChromHMM/COORDS/dm3/RefSeqGene.dm3.bed.gz  \n",
            "  inflating: ChromHMM/COORDS/dm3/RefSeqTES.dm3.bed.gz  \n",
            "  inflating: ChromHMM/COORDS/dm3/RefSeqTSS.dm3.bed.gz  \n",
            "  inflating: ChromHMM/COORDS/dm3/RefSeqTSS2kb.dm3.bed.gz  \n",
            "   creating: ChromHMM/COORDS/dm6/\n",
            "  inflating: ChromHMM/COORDS/dm6/RefSeqExon.dm6.bed.gz  \n",
            "  inflating: ChromHMM/COORDS/dm6/RefSeqGene.dm6.bed.gz  \n",
            "  inflating: ChromHMM/COORDS/dm6/RefSeqTES.dm6.bed.gz  \n",
            "  inflating: ChromHMM/COORDS/dm6/RefSeqTSS.dm6.bed.gz  \n",
            "  inflating: ChromHMM/COORDS/dm6/RefSeqTSS2kb.dm6.bed.gz  \n",
            "   creating: ChromHMM/COORDS/hg18/\n",
            "  inflating: ChromHMM/COORDS/hg18/CpGIsland.hg18.bed.gz  \n",
            " extracting: ChromHMM/COORDS/hg18/laminB1lads.hg18.bed.gz  \n",
            "  inflating: ChromHMM/COORDS/hg18/RefSeqExon.hg18.bed.gz  \n",
            "  inflating: ChromHMM/COORDS/hg18/RefSeqGene.hg18.bed.gz  \n",
            "  inflating: ChromHMM/COORDS/hg18/RefSeqTES.hg18.bed.gz  \n",
            "  inflating: ChromHMM/COORDS/hg18/RefSeqTSS.hg18.bed.gz  \n",
            "  inflating: ChromHMM/COORDS/hg18/RefSeqTSS2kb.hg18.bed.gz  \n",
            "   creating: ChromHMM/COORDS/hg19/\n",
            "  inflating: ChromHMM/COORDS/hg19/CpGIsland.hg19.bed.gz  \n",
            " extracting: ChromHMM/COORDS/hg19/laminB1lads.hg19.bed.gz  \n",
            "  inflating: ChromHMM/COORDS/hg19/RefSeqExon.hg19.bed.gz  \n",
            "  inflating: ChromHMM/COORDS/hg19/RefSeqGene.hg19.bed.gz  \n",
            "  inflating: ChromHMM/COORDS/hg19/RefSeqTES.hg19.bed.gz  \n",
            "  inflating: ChromHMM/COORDS/hg19/RefSeqTSS.hg19.bed.gz  \n",
            "  inflating: ChromHMM/COORDS/hg19/RefSeqTSS2kb.hg19.bed.gz  \n",
            "   creating: ChromHMM/COORDS/hg38/\n",
            "  inflating: ChromHMM/COORDS/hg38/CpGIsland.hg38.bed.gz  \n",
            "  inflating: ChromHMM/COORDS/hg38/RefSeqExon.hg38.bed.gz  \n",
            "  inflating: ChromHMM/COORDS/hg38/RefSeqGene.hg38.bed.gz  \n",
            "  inflating: ChromHMM/COORDS/hg38/RefSeqTES.hg38.bed.gz  \n",
            "  inflating: ChromHMM/COORDS/hg38/RefSeqTSS.hg38.bed.gz  \n",
            "  inflating: ChromHMM/COORDS/hg38/RefSeqTSS2kb.hg38.bed.gz  \n",
            "   creating: ChromHMM/COORDS/hs1/\n",
            "  inflating: ChromHMM/COORDS/hs1/CpGIsland.hs1.bed.gz  \n",
            "  inflating: ChromHMM/COORDS/hs1/RefSeqExon.hs1.bed.gz  \n",
            "  inflating: ChromHMM/COORDS/hs1/RefSeqGene.hs1.bed.gz  \n",
            "  inflating: ChromHMM/COORDS/hs1/RefSeqTES.hs1.bed.gz  \n",
            "  inflating: ChromHMM/COORDS/hs1/RefSeqTSS.hs1.bed.gz  \n",
            "  inflating: ChromHMM/COORDS/hs1/RefSeqTSS2kb.hs1.bed.gz  \n",
            "   creating: ChromHMM/COORDS/mm10/\n",
            "  inflating: ChromHMM/COORDS/mm10/CpGIsland.mm10.bed.gz  \n",
            "  inflating: ChromHMM/COORDS/mm10/RefSeqExon.mm10.bed.gz  \n",
            "  inflating: ChromHMM/COORDS/mm10/RefSeqGene.mm10.bed.gz  \n",
            "  inflating: ChromHMM/COORDS/mm10/RefSeqTES.mm10.bed.gz  \n",
            "  inflating: ChromHMM/COORDS/mm10/RefSeqTSS.mm10.bed.gz  \n",
            "  inflating: ChromHMM/COORDS/mm10/RefSeqTSS2kb.mm10.bed.gz  \n",
            "   creating: ChromHMM/COORDS/mm39/\n",
            "  inflating: ChromHMM/COORDS/mm39/CpGIsland.mm39.bed.gz  \n",
            "  inflating: ChromHMM/COORDS/mm39/RefSeqExon.mm39.bed.gz  \n",
            "  inflating: ChromHMM/COORDS/mm39/RefSeqGene.mm39.bed.gz  \n",
            "  inflating: ChromHMM/COORDS/mm39/RefSeqTES.mm39.bed.gz  \n",
            "  inflating: ChromHMM/COORDS/mm39/RefSeqTSS.mm39.bed.gz  \n",
            "  inflating: ChromHMM/COORDS/mm39/RefSeqTSS2kb.mm39.bed.gz  \n",
            "   creating: ChromHMM/COORDS/mm9/\n",
            "  inflating: ChromHMM/COORDS/mm9/CpGIsland.mm9.bed.gz  \n",
            "  inflating: ChromHMM/COORDS/mm9/RefSeqExon.mm9.bed.gz  \n",
            "  inflating: ChromHMM/COORDS/mm9/RefSeqGene.mm9.bed.gz  \n",
            "  inflating: ChromHMM/COORDS/mm9/RefSeqTES.mm9.bed.gz  \n",
            "  inflating: ChromHMM/COORDS/mm9/RefSeqTSS.mm9.bed.gz  \n",
            "  inflating: ChromHMM/COORDS/mm9/RefSeqTSS2kb.mm9.bed.gz  \n",
            "   creating: ChromHMM/COORDS/rn5/\n",
            "  inflating: ChromHMM/COORDS/rn5/CpGIsland.rn5.bed.gz  \n",
            "  inflating: ChromHMM/COORDS/rn5/RefSeqExon.rn5.bed.gz  \n",
            "  inflating: ChromHMM/COORDS/rn5/RefSeqGene.rn5.bed.gz  \n",
            "  inflating: ChromHMM/COORDS/rn5/RefSeqTES.rn5.bed.gz  \n",
            "  inflating: ChromHMM/COORDS/rn5/RefSeqTSS.rn5.bed.gz  \n",
            "  inflating: ChromHMM/COORDS/rn5/RefSeqTSS2kb.rn5.bed.gz  \n",
            "   creating: ChromHMM/COORDS/rn6/\n",
            "  inflating: ChromHMM/COORDS/rn6/CpGIsland.rn6.bed.gz  \n",
            "  inflating: ChromHMM/COORDS/rn6/RefSeqExon.rn6.bed.gz  \n",
            "  inflating: ChromHMM/COORDS/rn6/RefSeqGene.rn6.bed.gz  \n",
            "  inflating: ChromHMM/COORDS/rn6/RefSeqTES.rn6.bed.gz  \n",
            "  inflating: ChromHMM/COORDS/rn6/RefSeqTSS.rn6.bed.gz  \n",
            "  inflating: ChromHMM/COORDS/rn6/RefSeqTSS2kb.rn6.bed.gz  \n",
            "   creating: ChromHMM/SAMPLEDATA_HG18/\n",
            "  inflating: ChromHMM/SAMPLEDATA_HG18/GM12878_chr11_binary.txt.gz  \n",
            "  inflating: ChromHMM/SAMPLEDATA_HG18/K562_chr11_binary.txt.gz  \n",
            "   creating: ChromHMM/SRC/\n",
            "   creating: ChromHMM/SRC/edu/\n",
            "   creating: ChromHMM/SRC/edu/mit/\n",
            "   creating: ChromHMM/SRC/edu/mit/compbio/\n",
            "   creating: ChromHMM/SRC/edu/mit/compbio/ChromHMM/\n",
            "  inflating: ChromHMM/SRC/edu/mit/compbio/ChromHMM/BrowserOutput.java  \n",
            "  inflating: ChromHMM/SRC/edu/mit/compbio/ChromHMM/ChromHMM.java  \n",
            "  inflating: ChromHMM/SRC/edu/mit/compbio/ChromHMM/ConvertGeneTable.java  \n",
            "  inflating: ChromHMM/SRC/edu/mit/compbio/ChromHMM/NestedEliminateInitialize.java  \n",
            "  inflating: ChromHMM/SRC/edu/mit/compbio/ChromHMM/Preprocessing.java  \n",
            "  inflating: ChromHMM/SRC/edu/mit/compbio/ChromHMM/StateAnalysis.java  \n",
            "  inflating: ChromHMM/SRC/edu/mit/compbio/ChromHMM/Util.java  \n",
            "   creating: ChromHMM/SRC/org/\n",
            "   creating: ChromHMM/SRC/org/tc33/\n",
            "   creating: ChromHMM/SRC/org/tc33/jheatchart/\n",
            "  inflating: ChromHMM/SRC/org/tc33/jheatchart/HeatChart.java  \n",
            "  inflating: ChromHMM/versionlog.txt  \n"
          ]
        }
      ]
    },
    {
      "cell_type": "markdown",
      "source": [
        "## Скачиваем файлы"
      ],
      "metadata": {
        "id": "2kMWKxjMkvN4"
      }
    },
    {
      "cell_type": "markdown",
      "source": [
        "Выравнивания 10-ти разных модификаций гистонов"
      ],
      "metadata": {
        "id": "x22N9gcirAAi"
      }
    },
    {
      "cell_type": "code",
      "source": [
        "!wget http://hgdownload.cse.ucsc.edu/goldenPath/hg19/encodeDCC/wgEncodeBroadHistone/wgEncodeBroadHistoneHelas3H2azAlnRep1.bam -O H2afz.bam\n",
        "!wget http://hgdownload.cse.ucsc.edu/goldenPath/hg19/encodeDCC/wgEncodeBroadHistone/wgEncodeBroadHistoneHelas3H3k27acStdAlnRep1.bam -O H3k27ac.bam\n",
        "!wget http://hgdownload.cse.ucsc.edu/goldenPath/hg19/encodeDCC/wgEncodeBroadHistone/wgEncodeBroadHistoneHelas3H3k27me3StdAlnRep1.bam -O H3k27me3.bam\n",
        "!wget http://hgdownload.cse.ucsc.edu/goldenPath/hg19/encodeDCC/wgEncodeBroadHistone/wgEncodeBroadHistoneHelas3H3k36me3StdAlnRep1.bam -O H3k36me3.bam\n",
        "!wget http://hgdownload.cse.ucsc.edu/goldenPath/hg19/encodeDCC/wgEncodeBroadHistone/wgEncodeBroadHistoneHelas3H3k04me1StdAlnRep1.bam -O H3k04me1.bam\n",
        "!wget http://hgdownload.cse.ucsc.edu/goldenPath/hg19/encodeDCC/wgEncodeBroadHistone/wgEncodeBroadHistoneHelas3H3k4me2StdAlnRep1.bam -O H3k4me2.bam\n",
        "!wget http://hgdownload.cse.ucsc.edu/goldenPath/hg19/encodeDCC/wgEncodeBroadHistone/wgEncodeBroadHistoneHelas3H3k4me3StdAlnRep1.bam -O H3k4me3.bam\n",
        "!wget http://hgdownload.cse.ucsc.edu/goldenPath/hg19/encodeDCC/wgEncodeBroadHistone/wgEncodeBroadHistoneHelas3H3k79me2StdAlnRep1.bam -O H3k79me2.bam\n",
        "!wget http://hgdownload.cse.ucsc.edu/goldenPath/hg19/encodeDCC/wgEncodeBroadHistone/wgEncodeBroadHistoneHelas3H3k9acStdAlnRep1.bam -O H3k9ac.bam\n",
        "!wget http://hgdownload.cse.ucsc.edu/goldenPath/hg19/encodeDCC/wgEncodeBroadHistone/wgEncodeBroadHistoneHelas3H3k09me3AlnRep1.bam -O H3k09me3.bam"
      ],
      "metadata": {
        "id": "6GWws0iKoJUB"
      },
      "execution_count": null,
      "outputs": []
    },
    {
      "cell_type": "markdown",
      "source": [
        "Файл с контрольным экспериментом для соответствующего типа клеток"
      ],
      "metadata": {
        "id": "68fOYnEWrD76"
      }
    },
    {
      "cell_type": "code",
      "source": [
        "! wget http://hgdownload.cse.ucsc.edu/goldenPath/hg19/encodeDCC/wgEncodeBroadHistone/wgEncodeBroadHistoneHelas3ControlStdAlnRep1.bam -O Control.bam"
      ],
      "metadata": {
        "id": "BUF-qssIkvp9"
      },
      "execution_count": null,
      "outputs": []
    },
    {
      "cell_type": "markdown",
      "source": [
        "* Вручную создаем текстовый файл cellmarkfiletable.txt, в котором указываем название типа клеток, разных гистоновых меток, а также соответствующие .bam файлы для эксперимента и контроля. Один и тот же контрольный файл .bam может быть использован для всех экспериментов.\n",
        "\n",
        "* Более подробно о содержании файла cellmarkfiletable.txt можно посмотреть в руководстве пользователя ChromHMM\n",
        "\n",
        "* Файл cellmarkfiletable.txt добавляем в github репозиторий для отчета"
      ],
      "metadata": {
        "id": "ppiecqzxq1NH"
      }
    },
    {
      "cell_type": "code",
      "source": [
        "import os\n",
        "\n",
        "control = 'Control.bam'\n",
        "\n",
        "with open(f'cellmarkfiletable.txt', 'a') as the_file:\n",
        "  for file in os.listdir():\n",
        "    if file[-3:] == 'bam' and \"Control\" not in file:\n",
        "      the_file.write(f'A549\\t{file[:-4]}\\t{file}\\t{control}\\n')"
      ],
      "metadata": {
        "id": "1epjJvT9rLXV"
      },
      "execution_count": null,
      "outputs": []
    },
    {
      "cell_type": "markdown",
      "source": [
        "Запускаем ChromHMM с опцией BinarizeBam, чтобы конвертировать профили из ChIP-seq экспериментов (bam-файлы) в табличку из 0 и 1, т.е. чтобы сделать разбивку генома на условные интервалы (бины) длиной 200 п.о.\n",
        "Для 11 меток программа работает около 5 мин\n"
      ],
      "metadata": {
        "id": "hKlEM5T0rXmz"
      }
    },
    {
      "cell_type": "code",
      "source": [
        "!java -mx5000M -jar /content/ChromHMM/ChromHMM.jar BinarizeBam -b 200  /content/ChromHMM/CHROMSIZES/hg19.txt /content/ cellmarkfiletable.txt   binarizedData"
      ],
      "metadata": {
        "colab": {
          "base_uri": "https://localhost:8080/"
        },
        "id": "ZcAQyQtMragC",
        "outputId": "59f9decb-cc9f-460d-fbbf-c4fc3657a303"
      },
      "execution_count": null,
      "outputs": [
        {
          "output_type": "stream",
          "name": "stdout",
          "text": [
            "Writing to file binarizedData/A549_chr1_binary.txt\n",
            "Writing to file binarizedData/A549_chr2_binary.txt\n",
            "Writing to file binarizedData/A549_chr3_binary.txt\n",
            "Writing to file binarizedData/A549_chr4_binary.txt\n",
            "Writing to file binarizedData/A549_chr5_binary.txt\n",
            "Writing to file binarizedData/A549_chr6_binary.txt\n",
            "Writing to file binarizedData/A549_chr7_binary.txt\n",
            "Writing to file binarizedData/A549_chrX_binary.txt\n",
            "Writing to file binarizedData/A549_chr8_binary.txt\n",
            "Writing to file binarizedData/A549_chr9_binary.txt\n",
            "Writing to file binarizedData/A549_chr10_binary.txt\n",
            "Writing to file binarizedData/A549_chr11_binary.txt\n",
            "Writing to file binarizedData/A549_chr12_binary.txt\n",
            "Writing to file binarizedData/A549_chr13_binary.txt\n",
            "Writing to file binarizedData/A549_chr14_binary.txt\n",
            "Writing to file binarizedData/A549_chr15_binary.txt\n",
            "Writing to file binarizedData/A549_chr16_binary.txt\n",
            "Writing to file binarizedData/A549_chr17_binary.txt\n",
            "Writing to file binarizedData/A549_chr18_binary.txt\n",
            "Writing to file binarizedData/A549_chr20_binary.txt\n",
            "Writing to file binarizedData/A549_chr19_binary.txt\n",
            "Writing to file binarizedData/A549_chr22_binary.txt\n",
            "Writing to file binarizedData/A549_chr21_binary.txt\n",
            "Writing to file binarizedData/A549_chrM_binary.txt\n"
          ]
        }
      ]
    },
    {
      "cell_type": "markdown",
      "source": [
        "Запускаем ChromHMM с опцией LearnModel (см. руководство пользователя), которая автоматически определит параметры N разных эпигенетических типов с наиболее выраженными наборами гистоновых меток и присвоит каждому геномному интервалу определенный эпигенетический тип. Количество разных эпигенетических типов (или состояний) выбираете сами (например 10 штук).\n",
        "Не забудьте, что мы работаем с версией референсного генома человека hg19\n",
        "Для 11 меток программа работает около 10 минут\n"
      ],
      "metadata": {
        "id": "6Lc1FFPkrlyN"
      }
    },
    {
      "cell_type": "code",
      "source": [
        "!java -mx5000M -jar /content/ChromHMM/ChromHMM.jar LearnModel -b 200 \\\n",
        "  /content/binarizedData/ /content/data 15 hg19\n"
      ],
      "metadata": {
        "colab": {
          "base_uri": "https://localhost:8080/"
        },
        "id": "s1GKMhzRrmaQ",
        "outputId": "85f27f98-7685-48b9-96c4-00f30f2abeba"
      },
      "execution_count": null,
      "outputs": [
        {
          "output_type": "stream",
          "name": "stdout",
          "text": [
            "Writing to file /content/data/transitions_15.txt\n",
            "Writing to file /content/data/emissions_15.txt\n",
            "Writing to file /content/data/emissions_15.svg\n",
            "Writing to file /content/data/emissions_15.png\n",
            "Writing to file /content/data/transitions_15.png\n",
            "Writing to file /content/data/transitions_15.svg\n",
            "Writing to file /content/data/model_15.txt\n",
            " Iteration  Estimated Log Likelihood     Change    Total Time (secs)\n",
            "         1              -9427099.837          -                 27.4\n",
            "         2              -8322934.901 1104164.936                 54.4\n",
            "         3              -7950831.893 372103.008                 76.4\n",
            "         4              -7748845.412 201986.481                101.6\n",
            "         5              -7658835.414  90009.998                122.2\n",
            "         6              -7611859.657  46975.757                146.1\n",
            "         7              -7588116.898  23742.759                167.1\n",
            "         8              -7578439.203   9677.695                188.1\n",
            "         9              -7573683.191   4756.012                208.1\n",
            "        10              -7570835.318   2847.873                229.1\n",
            "        11              -7568878.471   1956.847                252.6\n",
            "        12              -7567370.233   1508.238                277.9\n",
            "        13              -7566136.613   1233.620                299.6\n",
            "        14              -7565113.993   1022.620                322.7\n",
            "        15              -7564249.064    864.929                345.8\n",
            "        16              -7563484.001    765.063                368.8\n",
            "        17              -7562761.868    722.132                391.3\n",
            "        18              -7562034.321    727.548                413.5\n",
            "        19              -7561275.164    759.157                436.7\n",
            "        20              -7560488.259    786.905                459.9\n",
            "        21              -7559698.601    789.658                483.1\n",
            "        22              -7558938.304    760.298                505.6\n",
            "        23              -7558232.765    705.539                528.4\n",
            "        24              -7557592.869    639.896                551.7\n",
            "        25              -7557015.013    577.856                574.9\n",
            "        26              -7556486.094    528.919                598.1\n",
            "        27              -7555988.520    497.574                620.2\n",
            "        28              -7555502.013    486.507                643.3\n",
            "        29              -7555004.099    497.914                666.5\n",
            "        30              -7554467.776    536.324                689.6\n",
            "        31              -7553855.420    612.356                715.4\n",
            "        32              -7553106.254    749.166                738.6\n",
            "        33              -7552101.957   1004.297                760.4\n",
            "        34              -7550569.767   1532.190                783.5\n",
            "        35              -7547899.702   2670.065                806.6\n",
            "        36              -7543386.831   4512.871                829.6\n",
            "        37              -7537794.093   5592.738                851.8\n",
            "        38              -7533036.921   4757.172                874.4\n",
            "        39              -7529637.058   3399.863                897.4\n",
            "        40              -7527015.482   2621.576                920.3\n",
            "        41              -7524618.681   2396.801                943.4\n",
            "        42              -7522251.428   2367.253                965.2\n",
            "        43              -7520063.462   2187.966                988.2\n",
            "        44              -7518251.009   1812.452               1011.6\n",
            "        45              -7516771.968   1479.042               1034.6\n",
            "        46              -7515430.186   1341.782               1057.2\n",
            "        47              -7514045.392   1384.794               1079.6\n",
            "        48              -7512546.602   1498.790               1102.7\n",
            "        49              -7510893.300   1653.302               1126.0\n",
            "        50              -7508910.156   1983.144               1149.4\n",
            "        51              -7506459.476   2450.679               1172.5\n",
            "        52              -7504002.581   2456.896               1195.1\n",
            "        53              -7502300.049   1702.532               1218.4\n",
            "        54              -7501394.210    905.839               1243.1\n",
            "        55              -7500927.138    467.072               1266.4\n",
            "        56              -7500657.252    269.887               1289.9\n",
            "        57              -7500477.775    179.477               1312.0\n",
            "        58              -7500344.780    132.995               1335.3\n",
            "        59              -7500238.765    106.015               1358.8\n",
            "        60              -7500150.018     88.747               1382.2\n",
            "        61              -7500073.165     76.853               1405.6\n",
            "        62              -7500004.983     68.182               1429.8\n",
            "        63              -7499943.431     61.551               1452.5\n",
            "        64              -7499887.161     56.271               1475.9\n",
            "        65              -7499835.249     51.912               1499.2\n",
            "        66              -7499787.048     48.201               1522.5\n",
            "        67              -7499742.091     44.957               1545.4\n",
            "        68              -7499700.029     42.062               1567.6\n",
            "        69              -7499660.590     39.439               1590.9\n",
            "        70              -7499623.553     37.037               1615.7\n",
            "        71              -7499588.731     34.822               1638.9\n",
            "        72              -7499555.958     32.773               1662.3\n",
            "        73              -7499525.083     30.876               1684.3\n",
            "        74              -7499495.961     29.121               1707.5\n",
            "        75              -7499468.459     27.502               1730.7\n",
            "        76              -7499442.448     26.011               1753.9\n",
            "        77              -7499417.808     24.640               1777.2\n",
            "        78              -7499394.425     23.383               1801.0\n",
            "        79              -7499372.198     22.227               1823.6\n",
            "        80              -7499351.034     21.164               1846.8\n",
            "        81              -7499330.849     20.185               1869.8\n",
            "        82              -7499311.573     19.276               1893.0\n",
            "        83              -7499293.146     18.427               1914.9\n",
            "        84              -7499275.517     17.629               1938.1\n",
            "        85              -7499258.645     16.872               1961.4\n",
            "        86              -7499242.498     16.147               1986.0\n",
            "        87              -7499227.048     15.450               2009.1\n",
            "        88              -7499212.275     14.773               2031.3\n",
            "        89              -7499198.159     14.115               2054.5\n",
            "        90              -7499184.687     13.472               2077.8\n",
            "        91              -7499171.844     12.843               2101.0\n",
            "        92              -7499159.618     12.226               2124.0\n",
            "        93              -7499147.997     11.621               2146.2\n",
            "        94              -7499136.968     11.029               2170.8\n",
            "        95              -7499126.519     10.450               2194.0\n",
            "        96              -7499116.635      9.884               2217.2\n",
            "        97              -7499107.302      9.333               2239.7\n",
            "        98              -7499098.504      8.798               2262.4\n",
            "        99              -7499090.223      8.280               2285.6\n",
            "       100              -7499082.443      7.781               2308.8\n",
            "       101              -7499075.143      7.300               2332.1\n",
            "       102              -7499068.304      6.839               2356.6\n",
            "       103              -7499061.906      6.398               2378.5\n",
            "       104              -7499055.927      5.979               2401.8\n",
            "       105              -7499050.347      5.580               2425.0\n",
            "       106              -7499045.144      5.203               2448.2\n",
            "       107              -7499040.298      4.847               2471.1\n",
            "       108              -7499035.787      4.511               2493.3\n",
            "       109              -7499031.592      4.195               2516.6\n",
            "       110              -7499027.693      3.899               2541.2\n",
            "       111              -7499024.072      3.621               2564.3\n",
            "       112              -7499020.710      3.362               2587.5\n",
            "       113              -7499017.591      3.120               2609.5\n",
            "       114              -7499014.697      2.893               2632.7\n",
            "       115              -7499012.014      2.683               2656.0\n",
            "       116              -7499009.527      2.487               2679.3\n",
            "       117              -7499007.223      2.304               2702.5\n",
            "       118              -7499005.088      2.135               2726.0\n",
            "       119              -7499003.111      1.977               2749.2\n",
            "       120              -7499001.280      1.831               2772.4\n",
            "       121              -7498999.585      1.695               2795.6\n",
            "       122              -7498998.015      1.569               2817.8\n",
            "       123              -7498996.563      1.453               2840.7\n",
            "       124              -7498995.219      1.344               2864.0\n",
            "       125              -7498993.975      1.244               2887.1\n",
            "       126              -7498992.824      1.151               2911.6\n",
            "       127              -7498991.760      1.064               2934.6\n",
            "       128              -7498990.775      0.985               2956.8\n",
            "       129              -7498989.865      0.911               2980.0\n",
            "       130              -7498989.023      0.842               3003.3\n",
            "       131              -7498988.244      0.778               3026.5\n",
            "       132              -7498987.525      0.720               3049.0\n",
            "       133              -7498986.859      0.665               3071.7\n",
            "       134              -7498986.244      0.615               3096.2\n",
            "       135              -7498985.676      0.568               3119.4\n",
            "       136              -7498985.151      0.525               3142.6\n",
            "       137              -7498984.666      0.485               3165.9\n",
            "       138              -7498984.217      0.448               3187.8\n",
            "       139              -7498983.803      0.415               3210.9\n",
            "       140              -7498983.420      0.383               3234.1\n",
            "       141              -7498983.067      0.353               3257.3\n",
            "       142              -7498982.741      0.326               3280.6\n",
            "       143              -7498982.439      0.301               3303.7\n",
            "       144              -7498982.155      0.284               3326.9\n",
            "       145              -7498981.898      0.256               3350.1\n",
            "       146              -7498981.662      0.236               3373.2\n",
            "       147              -7498981.444      0.218               3395.1\n",
            "       148              -7498981.242      0.201               3418.3\n",
            "       149              -7498981.057      0.186               3441.7\n",
            "       150              -7498980.885      0.171               3466.3\n",
            "       151              -7498980.727      0.158               3489.5\n",
            "       152              -7498980.581      0.146               3512.6\n",
            "       153              -7498980.447      0.135               3535.8\n",
            "       154              -7498980.323      0.124               3558.9\n",
            "       155              -7498980.208      0.114               3581.7\n",
            "       156              -7498980.103      0.105               3603.8\n",
            "       157              -7498980.006      0.097               3626.9\n",
            "       158              -7498979.916      0.090               3651.5\n",
            "       159              -7498979.833      0.082               3674.7\n",
            "       160              -7498979.757      0.076               3696.4\n",
            "       161              -7498979.687      0.070               3719.6\n",
            "       162              -7498979.622      0.065               3742.7\n",
            "       163              -7498979.563      0.059               3765.9\n",
            "       164              -7498979.508      0.055               3790.3\n",
            "       165              -7498979.458      0.051               3812.2\n",
            "       166              -7498979.411      0.046               3836.7\n",
            "       167              -7498979.369      0.043               3859.7\n",
            "       168              -7498979.329      0.039               3882.9\n",
            "       169              -7498979.293      0.036               3906.1\n",
            "       170              -7498979.260      0.033               3928.2\n",
            "       171              -7498979.229      0.031               3951.1\n",
            "       172              -7498979.201      0.028               3974.1\n",
            "       173              -7498979.175      0.026               3997.2\n",
            "       174              -7498979.151      0.024               4022.2\n",
            "       175              -7498979.130      0.022               4045.2\n",
            "       176              -7498979.110      0.020               4067.3\n",
            "       177              -7498979.091      0.019               4090.4\n",
            "       178              -7498979.074      0.017               4113.5\n",
            "       179              -7498979.058      0.016               4136.8\n",
            "       180              -7498979.044      0.014               4159.3\n",
            "       181              -7498979.031      0.013               4183.2\n",
            "       182              -7498979.019      0.012               4206.3\n",
            "       183              -7498979.008      0.011               4229.5\n",
            "       184              -7498978.998      0.010               4252.6\n",
            "       185              -7498978.988      0.009               4275.2\n",
            "       186              -7498978.980      0.009               4297.5\n",
            "       187              -7498978.972      0.008               4320.6\n",
            "       188              -7498978.965      0.007               4343.7\n",
            "       189              -7498978.958      0.006               4368.1\n",
            "       190              -7498978.952      0.006               4390.8\n",
            "       191              -7498978.947      0.006               4413.0\n",
            "       192              -7498978.941      0.005               4436.1\n",
            "       193              -7498978.937      0.005               4459.2\n",
            "       194              -7498978.933      0.004               4482.7\n",
            "       195              -7498978.929      0.004               4504.9\n",
            "       196              -7498978.925      0.004               4527.6\n",
            "       197              -7498978.922      0.003               4552.0\n",
            "       198              -7498978.919      0.003               4575.2\n",
            "       199              -7498978.916      0.003               4598.2\n",
            "       200              -7498978.914      0.002               4620.8\n",
            "Writing to file /content/data/A549_15_segments.bed\n",
            "Writing to file /content/data/A549_15_dense.bed\n",
            "Writing to file /content/data/A549_15_expanded.bed\n",
            "Writing to file /content/data/A549_15_overlap.txt\n",
            "Writing to file /content/data/A549_15_overlap.png\n",
            "Writing to file /content/data/A549_15_overlap.svg\n",
            "Writing to file /content/data/A549_15_RefSeqTES_neighborhood.txt\n",
            "Writing to file /content/data/A549_15_RefSeqTES_neighborhood.png\n",
            "Writing to file /content/data/A549_15_RefSeqTES_neighborhood.svg\n",
            "Writing to file /content/data/A549_15_RefSeqTSS_neighborhood.txt\n",
            "Writing to file /content/data/A549_15_RefSeqTSS_neighborhood.png\n",
            "Writing to file /content/data/A549_15_RefSeqTSS_neighborhood.svg\n",
            "Warning could not automatically open in a browser /content/data/webpage_15.html\n"
          ]
        }
      ]
    },
    {
      "cell_type": "markdown",
      "source": [
        "В результате выполнения команды LearnModel будет создан набор файлов (в том числе HTML страничка) в папке выдачи, которая была указана при запуске. Скачиваем эту папку себе на копьютер и открываем HTML файл."
      ],
      "metadata": {
        "id": "t036xY-kryOj"
      }
    }
  ]
}